{
 "cells": [
  {
   "metadata": {},
   "cell_type": "markdown",
   "source": [
    "# Entrenamiento de los modelos\n",
    "\n",
    "En este notebook se detalla el proceso de entrenamiento de los modelos utilizados en el proyecto.\n"
   ],
   "id": "2972def8fd825aff"
  },
  {
   "metadata": {},
   "cell_type": "markdown",
   "source": [
    "## Puesta a punto\n",
    "\n",
    "En la celda siguiente se cargan las librerías necesarias para garantizar el correcto funcionamiento del notebook.\n"
   ],
   "id": "ee41c7016a2ccc6c"
  },
  {
   "cell_type": "code",
   "id": "initial_id",
   "metadata": {
    "collapsed": true,
    "ExecuteTime": {
     "end_time": "2025-07-09T22:06:36.372375Z",
     "start_time": "2025-07-09T22:06:32.430413Z"
    }
   },
   "source": [
    "import pandas as pd\n",
    "from sklearn.model_selection import cross_val_score\n",
    "from sklearn.ensemble import RandomForestClassifier\n",
    "from sklearn.tree import DecisionTreeClassifier\n",
    "from src.utils import best_model_per_grid, get_tuned_model\n",
    "import pickle\n",
    "import os"
   ],
   "outputs": [],
   "execution_count": 1
  },
  {
   "metadata": {},
   "cell_type": "markdown",
   "source": [
    "## Importación de los datos\n",
    "\n",
    "Los datos utilizados en esta etapa fueron previamente almacenados en formato tabular dentro de un archivo CSV. A continuación, se procede a su carga para iniciar el proceso de entrenamiento de los modelos.\n"
   ],
   "id": "b92c1b39e3326ba0"
  },
  {
   "metadata": {
    "ExecuteTime": {
     "end_time": "2025-07-09T22:06:36.387795Z",
     "start_time": "2025-07-09T22:06:36.381342Z"
    }
   },
   "cell_type": "code",
   "source": "os.chdir('../')",
   "id": "7d1f26b51a441fd0",
   "outputs": [],
   "execution_count": 2
  },
  {
   "metadata": {
    "ExecuteTime": {
     "end_time": "2025-07-09T22:06:36.759571Z",
     "start_time": "2025-07-09T22:06:36.741951Z"
    }
   },
   "cell_type": "code",
   "source": "X = pd.read_csv('data/processed/dataset.csv')",
   "id": "f1b2007849fab8e8",
   "outputs": [],
   "execution_count": 3
  },
  {
   "metadata": {
    "ExecuteTime": {
     "end_time": "2025-07-09T22:06:36.834423Z",
     "start_time": "2025-07-09T22:06:36.821245Z"
    }
   },
   "cell_type": "code",
   "source": [
    "# Variables elegidas para el entrenamiento\n",
    "X.columns"
   ],
   "id": "807521ba4aa1751",
   "outputs": [
    {
     "data": {
      "text/plain": [
       "Index(['Edad', 'Sexo', 'Café', 'Tabaco', 'Alcohol', 'APPHTA', 'APPDM',\n",
       "       'APPEPOC', 'APPIRC', 'APPEnfValvular', 'APPIMA', 'APPAngina', 'APPACV',\n",
       "       'No.LesionesCoronarias', 'LesionACD', 'Lesion TCI', 'LesionADA',\n",
       "       'LesionACircunfleja', 'BCPIAoPrep', 'BCPIAoTrans', 'BCPIAoPost',\n",
       "       'Dobutamina', 'Dopamina', 'Norepinefrina', 'Epinefrina',\n",
       "       'Nitroglicerina', 'Hipoglucemia', 'Hiperglucemia', 'Hiponatremia',\n",
       "       'Hipernatremia ', 'Hipopotasemia', 'Hiperpotasemia',\n",
       "       'Acidosis metabólica', 'Alcalosis metabólica', 'Acidosis respiratoria',\n",
       "       'Alcalosis respiratoria', 'DisfRenalPosop', 'DisfNeuroPosop',\n",
       "       'DisfHepatPosop', 'Estadia', 'Egreso', 'Evoluciòn', 'FEVIPreop',\n",
       "       'TamañoVI', 'AltContractVI', 'AMI', 'AMI+VSI', 'DAMI', 'DAM + VS',\n",
       "       'PuentesAR', 'PuentesAGep', 'PuentesVen', 'RevascIncompleta', 'CEC',\n",
       "       'DuracionCEC', 'Uso vasoactivos pst', 'AltMITransop', 'IMAPeriop',\n",
       "       'Vasoplejia post', 'Hipoxemia post ', 'PaO2/FiO2 post',\n",
       "       'Arritmias post', 'Anemia post', 'BalanceHidrPos', 'BalanceHidrNeg.',\n",
       "       'BalanceHidrNeutro', 'Lactato post', 'APP CI', 'HTA post', 'FEVI post',\n",
       "       'SvO2', 'SBGC'],\n",
       "      dtype='object')"
      ]
     },
     "execution_count": 4,
     "metadata": {},
     "output_type": "execute_result"
    }
   ],
   "execution_count": 4
  },
  {
   "metadata": {
    "ExecuteTime": {
     "end_time": "2025-07-09T22:06:36.865826Z",
     "start_time": "2025-07-09T22:06:36.855437Z"
    }
   },
   "cell_type": "code",
   "source": [
    "# Separar las variables predictoras (X) de la objetivo (y)\n",
    "X, y = X.drop('SBGC', axis=1), X['SBGC']"
   ],
   "id": "1b10b984c1232bea",
   "outputs": [],
   "execution_count": 5
  },
  {
   "metadata": {},
   "cell_type": "markdown",
   "source": [
    "## Definición y entrenamiento\n",
    "\n",
    "Se decidió entrenar dos modelos de clasificación supervisada: un **DecisionTreeClassifier** y un **RandomForestClassifier**, con el objetivo de comparar su desempeño y seleccionar el que ofrezca mejores resultados en la predicción del Síndrome de Bajo Gasto Cardíaco.\n",
    "\n",
    "En una primera etapa, ambos modelos se definirán estableciendo únicamente el parámetro `random_state` para garantizar la reproducibilidad de los resultados. La selección de los hiperparámetros óptimos se realizará posteriormente mediante *GridSearchCV*, una estrategia viable dado el tamaño reducido del conjunto de datos.\n"
   ],
   "id": "68687091f1f252d4"
  },
  {
   "metadata": {
    "ExecuteTime": {
     "end_time": "2025-07-09T22:06:36.909047Z",
     "start_time": "2025-07-09T22:06:36.902226Z"
    }
   },
   "cell_type": "code",
   "source": "rf_model = RandomForestClassifier(random_state=42)",
   "id": "cdffeaaf7e252fd3",
   "outputs": [],
   "execution_count": 6
  },
  {
   "metadata": {
    "ExecuteTime": {
     "end_time": "2025-07-09T22:06:36.945209Z",
     "start_time": "2025-07-09T22:06:36.938543Z"
    }
   },
   "cell_type": "code",
   "source": [
    "# Parámetros utilizados por el GridSearchCV para RandomForestClassifier\n",
    "rf_params = {\n",
    "    'n_estimators': [200, 300, 350],\n",
    "    'max_depth': [6, 10, 12],\n",
    "    'min_samples_leaf': [2, 4, 6],\n",
    "    'min_samples_split': [2, 4, 10],\n",
    "    'criterion': ['gini', 'entropy']\n",
    "}"
   ],
   "id": "2645bf9e0dd5f308",
   "outputs": [],
   "execution_count": 7
  },
  {
   "metadata": {
    "ExecuteTime": {
     "end_time": "2025-07-09T22:16:35.633004Z",
     "start_time": "2025-07-09T22:06:37.002468Z"
    }
   },
   "cell_type": "code",
   "source": [
    "#  RandomForestClassifier con los parámetros que maximizan su precisión\n",
    "rf_model = best_model_per_grid(rf_model, rf_params, X, y)"
   ],
   "id": "1c1eb464fe1b6576",
   "outputs": [],
   "execution_count": 8
  },
  {
   "metadata": {
    "ExecuteTime": {
     "end_time": "2025-07-09T22:16:38.806426Z",
     "start_time": "2025-07-09T22:16:38.768099Z"
    }
   },
   "cell_type": "code",
   "source": "dt_model = DecisionTreeClassifier(random_state=42)",
   "id": "ecddc890ca7c11bb",
   "outputs": [],
   "execution_count": 9
  },
  {
   "metadata": {
    "ExecuteTime": {
     "end_time": "2025-07-09T22:16:38.920798Z",
     "start_time": "2025-07-09T22:16:38.889456Z"
    }
   },
   "cell_type": "code",
   "source": [
    "# Parámetros utilizados por el GridSearchCV para DecisionTreeClassifier\n",
    "dt_params = {\n",
    "    'max_depth': [5, 6, 7, 8, 9, 10, 11, 12],\n",
    "    'max_features': ['sqrt', 'log2', 0.2, 0.5, 0.8],\n",
    "    'min_samples_leaf': [4, 5, 6, 7, 8, 9, 10, 11, 12],\n",
    "    'min_samples_split': [4, 5, 6, 7, 8, 9, 10, 11, 12],\n",
    "    'criterion': ['gini', 'entropy']\n",
    "}"
   ],
   "id": "f6313b6c01c3d74d",
   "outputs": [],
   "execution_count": 10
  },
  {
   "metadata": {
    "ExecuteTime": {
     "end_time": "2025-07-09T22:57:52.361385Z",
     "start_time": "2025-07-09T22:52:47.496066Z"
    }
   },
   "cell_type": "code",
   "source": [
    "# DecisionTreeClassifier con los parámetros que maximizan su precisión\n",
    "dt_model = best_model_per_grid(dt_model, dt_params, X, y)"
   ],
   "id": "75eb632c0df4fb82",
   "outputs": [],
   "execution_count": 18
  },
  {
   "metadata": {},
   "cell_type": "markdown",
   "source": [
    "## Refinamiento\n",
    "\n",
    "Se aplicó un procedimiento de selección automática de características, conservando aquellas cuyo peso era superior al valor medio, con el objetivo de reducir la dimensionalidad y mantener únicamente las variables más relevantes para la predicción."
   ],
   "id": "18a51060404cc96d"
  },
  {
   "metadata": {
    "ExecuteTime": {
     "end_time": "2025-07-09T22:21:23.652674Z",
     "start_time": "2025-07-09T22:21:22.620696Z"
    }
   },
   "cell_type": "code",
   "source": [
    "# RandomForestClassifier solo con las variables más relevantes\n",
    "rf_tuned_model, rf_features = get_tuned_model(rf_model, X, y)\n",
    "\n",
    "# Variables escogidas\n",
    "rf_features"
   ],
   "id": "af2618eaa2170c64",
   "outputs": [
    {
     "data": {
      "text/plain": [
       "Index(['Dobutamina', 'Norepinefrina', 'Acidosis metabólica', 'FEVIPreop',\n",
       "       'TamañoVI', 'DuracionCEC', 'PaO2/FiO2 post', 'Lactato post',\n",
       "       'FEVI post', 'SvO2'],\n",
       "      dtype='object')"
      ]
     },
     "execution_count": 12,
     "metadata": {},
     "output_type": "execute_result"
    }
   ],
   "execution_count": 12
  },
  {
   "metadata": {
    "ExecuteTime": {
     "end_time": "2025-07-09T22:21:25.858024Z",
     "start_time": "2025-07-09T22:21:23.685302Z"
    }
   },
   "cell_type": "code",
   "source": [
    "# Media de la precisión obtenida por el RandomForestClassifier en cada partición de la validación cruzada\n",
    "rf_accuracy = cross_val_score(rf_tuned_model, X[rf_features], y, cv=5, scoring='accuracy').mean()\n",
    "\n",
    "rf_accuracy"
   ],
   "id": "9873527c131426ca",
   "outputs": [
    {
     "data": {
      "text/plain": [
       "0.9826086956521738"
      ]
     },
     "execution_count": 13,
     "metadata": {},
     "output_type": "execute_result"
    }
   ],
   "execution_count": 13
  },
  {
   "metadata": {
    "ExecuteTime": {
     "end_time": "2025-07-09T22:21:25.915233Z",
     "start_time": "2025-07-09T22:21:25.893539Z"
    }
   },
   "cell_type": "code",
   "source": [
    "# DecisionTreeClassifier solo con las variables más relevantes\n",
    "dt_tuned_model, dt_features = get_tuned_model(dt_model, X, y)\n",
    "\n",
    "dt_features"
   ],
   "id": "5fd6be7ee657f1b0",
   "outputs": [
    {
     "data": {
      "text/plain": [
       "Index(['CEC', 'FEVI post'], dtype='object')"
      ]
     },
     "execution_count": 14,
     "metadata": {},
     "output_type": "execute_result"
    }
   ],
   "execution_count": 14
  },
  {
   "metadata": {
    "ExecuteTime": {
     "end_time": "2025-07-09T22:21:26.010400Z",
     "start_time": "2025-07-09T22:21:25.949590Z"
    }
   },
   "cell_type": "code",
   "source": [
    "# Media de la precisión obtenida por el DecisionTreeClassifier en cada partición de la validación cruzada\n",
    "dt_accuracy = cross_val_score(dt_tuned_model, X[dt_features], y, cv=5, scoring='accuracy').mean()\n",
    "\n",
    "dt_accuracy"
   ],
   "id": "b8e9cf09d7f685f4",
   "outputs": [
    {
     "data": {
      "text/plain": [
       "0.9742753623188406"
      ]
     },
     "execution_count": 15,
     "metadata": {},
     "output_type": "execute_result"
    }
   ],
   "execution_count": 15
  },
  {
   "metadata": {},
   "cell_type": "markdown",
   "source": "A pesar de que el DecisionTreeClassifier presentó una precisión inicial mayor, fue luego superado por el RandomForestClassifier refinado.",
   "id": "25987d92a699d705"
  },
  {
   "metadata": {
    "ExecuteTime": {
     "end_time": "2025-07-09T22:21:26.089754Z",
     "start_time": "2025-07-09T22:21:26.042338Z"
    }
   },
   "cell_type": "code",
   "source": [
    "# Almacenar el RandomForestClassifier refinado\n",
    "with open('models/rf_model.pkl', 'wb') as file:\n",
    "    pickle.dump(rf_tuned_model, file)"
   ],
   "id": "121e215fee7dbb1a",
   "outputs": [],
   "execution_count": 16
  },
  {
   "metadata": {
    "ExecuteTime": {
     "end_time": "2025-07-09T22:21:26.132466Z",
     "start_time": "2025-07-09T22:21:26.124966Z"
    }
   },
   "cell_type": "code",
   "source": [
    "# Almacenar el DecisionTreeClassifier refinado\n",
    "with open('models/dt_model.pkl', 'wb') as file:\n",
    "    pickle.dump(dt_tuned_model, file)"
   ],
   "id": "1b7940e8a9f9f082",
   "outputs": [],
   "execution_count": 17
  }
 ],
 "metadata": {
  "kernelspec": {
   "display_name": "Predictor del Sindrome de Bajo Gasto Cardiaco",
   "language": "python",
   "name": "low-cardiac-output-syndrome-predictor"
  },
  "language_info": {
   "codemirror_mode": {
    "name": "ipython",
    "version": 2
   },
   "file_extension": ".py",
   "mimetype": "text/x-python",
   "name": "python",
   "nbconvert_exporter": "python",
   "pygments_lexer": "ipython2",
   "version": "2.7.6"
  }
 },
 "nbformat": 4,
 "nbformat_minor": 5
}
