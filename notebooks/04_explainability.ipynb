{
 "cells": [
  {
   "cell_type": "code",
   "id": "initial_id",
   "metadata": {
    "collapsed": true,
    "ExecuteTime": {
     "end_time": "2025-04-15T19:40:57.080957Z",
     "start_time": "2025-04-15T19:40:53.459696Z"
    }
   },
   "source": [
    "import shap\n",
    "import pandas as pd\n",
    "import pickle\n",
    "import os"
   ],
   "outputs": [],
   "execution_count": 1
  },
  {
   "metadata": {
    "ExecuteTime": {
     "end_time": "2025-04-15T19:40:57.102860Z",
     "start_time": "2025-04-15T19:40:57.098633Z"
    }
   },
   "cell_type": "code",
   "source": "os.chdir('../')",
   "id": "f8a9a56756be0d89",
   "outputs": [],
   "execution_count": 2
  },
  {
   "metadata": {
    "ExecuteTime": {
     "end_time": "2025-04-15T19:40:57.313624Z",
     "start_time": "2025-04-15T19:40:57.301779Z"
    }
   },
   "cell_type": "code",
   "source": "X = pd.read_csv('data/processed/dataset.csv')",
   "id": "a6d74ed472e1ffe3",
   "outputs": [],
   "execution_count": 3
  },
  {
   "metadata": {
    "ExecuteTime": {
     "end_time": "2025-04-15T19:40:57.348692Z",
     "start_time": "2025-04-15T19:40:57.337248Z"
    }
   },
   "cell_type": "code",
   "source": [
    "with open('models/rf_model.pkl', 'rb') as file:\n",
    "    rf_model = pickle.load(file)"
   ],
   "id": "8d7263237ddd6727",
   "outputs": [],
   "execution_count": 4
  },
  {
   "metadata": {
    "ExecuteTime": {
     "end_time": "2025-04-15T19:40:57.369761Z",
     "start_time": "2025-04-15T19:40:57.363902Z"
    }
   },
   "cell_type": "code",
   "source": "X = X[rf_model.feature_names_in_]",
   "id": "77e135ac8e9b3444",
   "outputs": [],
   "execution_count": 5
  },
  {
   "metadata": {
    "ExecuteTime": {
     "end_time": "2025-04-15T19:40:57.400104Z",
     "start_time": "2025-04-15T19:40:57.381859Z"
    }
   },
   "cell_type": "code",
   "source": [
    "explainer = shap.TreeExplainer(rf_model)\n",
    "shap_values = explainer.shap_values(X)"
   ],
   "id": "3a208b3a569de267",
   "outputs": [],
   "execution_count": 6
  },
  {
   "metadata": {
    "ExecuteTime": {
     "end_time": "2025-04-15T19:40:57.421598Z",
     "start_time": "2025-04-15T19:40:57.416213Z"
    }
   },
   "cell_type": "code",
   "source": [
    "print(f\"length of shap_values: {len(shap_values)} \\n\")\n",
    "print(f\"shape of elements within shap_values: {[i.shape for i in shap_values]} \\n\")"
   ],
   "id": "3db9f5ebaa18b49b",
   "outputs": [
    {
     "name": "stdout",
     "output_type": "stream",
     "text": [
      "length of shap_values: 116 \n",
      "\n",
      "shape of elements within shap_values: [(10, 2), (10, 2), (10, 2), (10, 2), (10, 2), (10, 2), (10, 2), (10, 2), (10, 2), (10, 2), (10, 2), (10, 2), (10, 2), (10, 2), (10, 2), (10, 2), (10, 2), (10, 2), (10, 2), (10, 2), (10, 2), (10, 2), (10, 2), (10, 2), (10, 2), (10, 2), (10, 2), (10, 2), (10, 2), (10, 2), (10, 2), (10, 2), (10, 2), (10, 2), (10, 2), (10, 2), (10, 2), (10, 2), (10, 2), (10, 2), (10, 2), (10, 2), (10, 2), (10, 2), (10, 2), (10, 2), (10, 2), (10, 2), (10, 2), (10, 2), (10, 2), (10, 2), (10, 2), (10, 2), (10, 2), (10, 2), (10, 2), (10, 2), (10, 2), (10, 2), (10, 2), (10, 2), (10, 2), (10, 2), (10, 2), (10, 2), (10, 2), (10, 2), (10, 2), (10, 2), (10, 2), (10, 2), (10, 2), (10, 2), (10, 2), (10, 2), (10, 2), (10, 2), (10, 2), (10, 2), (10, 2), (10, 2), (10, 2), (10, 2), (10, 2), (10, 2), (10, 2), (10, 2), (10, 2), (10, 2), (10, 2), (10, 2), (10, 2), (10, 2), (10, 2), (10, 2), (10, 2), (10, 2), (10, 2), (10, 2), (10, 2), (10, 2), (10, 2), (10, 2), (10, 2), (10, 2), (10, 2), (10, 2), (10, 2), (10, 2), (10, 2), (10, 2), (10, 2), (10, 2), (10, 2), (10, 2)] \n",
      "\n"
     ]
    }
   ],
   "execution_count": 7
  },
  {
   "metadata": {
    "ExecuteTime": {
     "end_time": "2025-04-15T19:40:58.309782Z",
     "start_time": "2025-04-15T19:40:57.470117Z"
    }
   },
   "cell_type": "code",
   "source": "shap.summary_plot(shap_values[1], X, plot_type='dot', show=False, plot_size=[10,6])",
   "id": "3a1660b033110083",
   "outputs": [
    {
     "ename": "AssertionError",
     "evalue": "The shape of the shap_values matrix does not match the shape of the provided data matrix.",
     "output_type": "error",
     "traceback": [
      "\u001B[31m---------------------------------------------------------------------------\u001B[39m",
      "\u001B[31mAssertionError\u001B[39m                            Traceback (most recent call last)",
      "\u001B[36mCell\u001B[39m\u001B[36m \u001B[39m\u001B[32mIn[8]\u001B[39m\u001B[32m, line 1\u001B[39m\n\u001B[32m----> \u001B[39m\u001B[32m1\u001B[39m \u001B[43mshap\u001B[49m\u001B[43m.\u001B[49m\u001B[43msummary_plot\u001B[49m\u001B[43m(\u001B[49m\u001B[43mshap_values\u001B[49m\u001B[43m[\u001B[49m\u001B[32;43m1\u001B[39;49m\u001B[43m]\u001B[49m\u001B[43m,\u001B[49m\u001B[43m \u001B[49m\u001B[43mX\u001B[49m\u001B[43m,\u001B[49m\u001B[43m \u001B[49m\u001B[43mplot_type\u001B[49m\u001B[43m=\u001B[49m\u001B[33;43m'\u001B[39;49m\u001B[33;43mdot\u001B[39;49m\u001B[33;43m'\u001B[39;49m\u001B[43m,\u001B[49m\u001B[43m \u001B[49m\u001B[43mshow\u001B[49m\u001B[43m=\u001B[49m\u001B[38;5;28;43;01mFalse\u001B[39;49;00m\u001B[43m,\u001B[49m\u001B[43m \u001B[49m\u001B[43mplot_size\u001B[49m\u001B[43m=\u001B[49m\u001B[43m[\u001B[49m\u001B[32;43m10\u001B[39;49m\u001B[43m,\u001B[49m\u001B[32;43m6\u001B[39;49m\u001B[43m]\u001B[49m\u001B[43m)\u001B[49m\n",
      "\u001B[36mFile \u001B[39m\u001B[32m~\\anaconda3\\envs\\low-cardiac-output-syndrome-predictor\\Lib\\site-packages\\shap\\plots\\_beeswarm.py:543\u001B[39m, in \u001B[36msummary_legacy\u001B[39m\u001B[34m(shap_values, features, feature_names, max_display, plot_type, color, axis_color, title, alpha, show, sort, color_bar, plot_size, layered_violin_max_num_bins, class_names, class_inds, color_bar_label, cmap, show_values_in_legend, use_log_scale)\u001B[39m\n\u001B[32m    540\u001B[39m         \u001B[38;5;28;01massert\u001B[39;00m \u001B[38;5;28;01mFalse\u001B[39;00m, shape_msg + \u001B[33m\"\u001B[39m\u001B[33m Perhaps the extra column in the shap_values matrix is the \u001B[39m\u001B[33m\"\u001B[39m \\\n\u001B[32m    541\u001B[39m                       \u001B[33m\"\u001B[39m\u001B[33mconstant offset? Of so just pass shap_values[:,:-1].\u001B[39m\u001B[33m\"\u001B[39m\n\u001B[32m    542\u001B[39m     \u001B[38;5;28;01melse\u001B[39;00m:\n\u001B[32m--> \u001B[39m\u001B[32m543\u001B[39m         \u001B[38;5;28;01massert\u001B[39;00m num_features == features.shape[\u001B[32m1\u001B[39m], shape_msg\n\u001B[32m    545\u001B[39m \u001B[38;5;28;01mif\u001B[39;00m feature_names \u001B[38;5;129;01mis\u001B[39;00m \u001B[38;5;28;01mNone\u001B[39;00m:\n\u001B[32m    546\u001B[39m     feature_names = np.array([labels[\u001B[33m'\u001B[39m\u001B[33mFEATURE\u001B[39m\u001B[33m'\u001B[39m] % \u001B[38;5;28mstr\u001B[39m(i) \u001B[38;5;28;01mfor\u001B[39;00m i \u001B[38;5;129;01min\u001B[39;00m \u001B[38;5;28mrange\u001B[39m(num_features)])\n",
      "\u001B[31mAssertionError\u001B[39m: The shape of the shap_values matrix does not match the shape of the provided data matrix."
     ]
    }
   ],
   "execution_count": 8
  },
  {
   "metadata": {},
   "cell_type": "code",
   "outputs": [],
   "execution_count": null,
   "source": [
    "shap.dependence_plot(X.columns.get_indexer(['FEVI post']), shap_values[1],\n",
    "                     X, interaction_index=False)"
   ],
   "id": "5b7761daaa17a4df"
  },
  {
   "metadata": {},
   "cell_type": "code",
   "outputs": [],
   "execution_count": null,
   "source": [
    "shap.dependence_plot(X.columns.get_indexer(['SvO2']), shap_values[1],\n",
    "                     X, interaction_index=False)"
   ],
   "id": "c860aa284722a60b"
  },
  {
   "metadata": {},
   "cell_type": "code",
   "outputs": [],
   "execution_count": null,
   "source": [
    "shap.dependence_plot(X.columns.get_indexer(['Lactato post']), shap_values[1],\n",
    "                     X, interaction_index=False)"
   ],
   "id": "9e2a2cfadf600cab"
  }
 ],
 "metadata": {
  "kernelspec": {
   "display_name": "Predictor del Sindrome de Bajo Gasto Cardiaco",
   "language": "python",
   "name": "low-cardiac-output-syndrome-predictor"
  },
  "language_info": {
   "codemirror_mode": {
    "name": "ipython",
    "version": 2
   },
   "file_extension": ".py",
   "mimetype": "text/x-python",
   "name": "python",
   "nbconvert_exporter": "python",
   "pygments_lexer": "ipython2",
   "version": "2.7.6"
  }
 },
 "nbformat": 4,
 "nbformat_minor": 5
}
