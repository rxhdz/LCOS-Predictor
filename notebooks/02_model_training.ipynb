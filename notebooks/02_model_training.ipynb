{
 "cells": [
  {
   "cell_type": "code",
   "id": "initial_id",
   "metadata": {
    "collapsed": true,
    "ExecuteTime": {
     "end_time": "2025-04-06T16:37:57.260712Z",
     "start_time": "2025-04-06T16:37:54.354675Z"
    }
   },
   "source": [
    "import pandas as pd\n",
    "from sklearn.model_selection import cross_val_score\n",
    "from sklearn.ensemble import RandomForestClassifier\n",
    "from sklearn.tree import DecisionTreeClassifier\n",
    "from src.utils import best_model_per_grid, get_tuned_model\n",
    "import pickle\n",
    "import os"
   ],
   "outputs": [],
   "execution_count": 1
  },
  {
   "metadata": {
    "ExecuteTime": {
     "end_time": "2025-04-06T16:37:57.286072Z",
     "start_time": "2025-04-06T16:37:57.281960Z"
    }
   },
   "cell_type": "code",
   "source": "os.chdir('../')",
   "id": "7d1f26b51a441fd0",
   "outputs": [],
   "execution_count": 2
  },
  {
   "metadata": {
    "ExecuteTime": {
     "end_time": "2025-04-06T16:37:57.517777Z",
     "start_time": "2025-04-06T16:37:57.502656Z"
    }
   },
   "cell_type": "code",
   "source": "X = pd.read_csv('data/processed/dataset.csv')",
   "id": "f1b2007849fab8e8",
   "outputs": [],
   "execution_count": 3
  },
  {
   "metadata": {
    "ExecuteTime": {
     "end_time": "2025-04-06T16:37:57.548572Z",
     "start_time": "2025-04-06T16:37:57.541156Z"
    }
   },
   "cell_type": "code",
   "source": "X.columns",
   "id": "807521ba4aa1751",
   "outputs": [
    {
     "data": {
      "text/plain": [
       "Index(['Edad', 'Sexo', 'Café', 'Tabaco', 'Alcohol', 'APPHTA', 'APPDM',\n",
       "       'APPEPOC', 'APPIRC', 'APPEnfValvular', 'APPIMA', 'APPAngina', 'APPACV',\n",
       "       'No.LesionesCoronarias', 'LesionACD', 'Lesion TCI', 'LesionADA',\n",
       "       'LesionACircunfleja', 'BCPIAoPrep', 'BCPIAoTrans', 'BCPIAoPost',\n",
       "       'Dobutamina', 'Dopamina', 'Norepinefrina', 'Epinefrina',\n",
       "       'Nitroglicerina', 'Hipoglucemia', 'Hiperglucemia', 'Hiponatremia',\n",
       "       'Hipernatremia ', 'Hipopotasemia', 'Hiperpotasemia',\n",
       "       'Acidosis metabólica', 'Alcalosis metabólica', 'Acidosis respiratoria',\n",
       "       'Alcalosis respiratoria', 'DisfRenalPosop', 'DisfNeuroPosop',\n",
       "       'DisfHepatPosop', 'Estadia', 'Egreso', 'Evoluciòn', 'FEVIPreop',\n",
       "       'TamañoVI', 'AltContractVI', 'AMI', 'AMI+VSI', 'DAMI', 'DAM + VS',\n",
       "       'PuentesAR', 'PuentesAGep', 'PuentesVen', 'RevascIncompleta', 'CEC',\n",
       "       'DuracionCEC', 'Uso vasoactivos pst', 'AltMITransop', 'IMAPeriop',\n",
       "       'Vasoplejia post', 'Hipoxemia post ', 'PaO2/FiO2 post',\n",
       "       'Arritmias post', 'Anemia post', 'BalanceHidrPos', 'BalanceHidrNeg.',\n",
       "       'BalanceHidrNeutro', 'Lactato post', 'APP CI', 'HTA post', 'FEVI post',\n",
       "       'SvO2', 'SBGC'],\n",
       "      dtype='object')"
      ]
     },
     "execution_count": 4,
     "metadata": {},
     "output_type": "execute_result"
    }
   ],
   "execution_count": 4
  },
  {
   "metadata": {
    "ExecuteTime": {
     "end_time": "2025-04-06T16:37:57.570853Z",
     "start_time": "2025-04-06T16:37:57.564104Z"
    }
   },
   "cell_type": "code",
   "source": "X, y = X.drop('SBGC', axis=1), X['SBGC']",
   "id": "1b10b984c1232bea",
   "outputs": [],
   "execution_count": 5
  },
  {
   "metadata": {
    "ExecuteTime": {
     "end_time": "2025-04-06T16:37:57.590196Z",
     "start_time": "2025-04-06T16:37:57.586174Z"
    }
   },
   "cell_type": "code",
   "source": "rf_model = RandomForestClassifier(random_state=42)",
   "id": "cdffeaaf7e252fd3",
   "outputs": [],
   "execution_count": 6
  },
  {
   "metadata": {
    "ExecuteTime": {
     "end_time": "2025-04-06T16:37:57.628702Z",
     "start_time": "2025-04-06T16:37:57.623793Z"
    }
   },
   "cell_type": "code",
   "source": [
    "rf_params = {\n",
    "    'n_estimators': [200, 300, 350],\n",
    "    'max_depth': [6, 10, 12],\n",
    "    'min_samples_leaf': [2, 4, 6],\n",
    "    'min_samples_split': [2, 4, 10],\n",
    "    'criterion': ['gini', 'entropy']\n",
    "}"
   ],
   "id": "2645bf9e0dd5f308",
   "outputs": [],
   "execution_count": 7
  },
  {
   "metadata": {
    "ExecuteTime": {
     "end_time": "2025-04-06T16:41:29.464811Z",
     "start_time": "2025-04-06T16:37:57.642796Z"
    }
   },
   "cell_type": "code",
   "source": "rf_model = best_model_per_grid(rf_model, rf_params, X, y)",
   "id": "1c1eb464fe1b6576",
   "outputs": [
    {
     "name": "stderr",
     "output_type": "stream",
     "text": [
      "C:\\Users\\Rocio\\anaconda3\\envs\\low-cardiac-output-syndrome-predictor\\Lib\\site-packages\\numpy\\ma\\core.py:2820: RuntimeWarning: invalid value encountered in cast\n",
      "  _data = np.array(data, dtype=dtype, copy=copy,\n"
     ]
    },
    {
     "name": "stdout",
     "output_type": "stream",
     "text": [
      "{'criterion': 'entropy', 'max_depth': 6, 'min_samples_leaf': 2, 'min_samples_split': 10, 'n_estimators': 350} 0.9742753623188406\n"
     ]
    }
   ],
   "execution_count": 8
  },
  {
   "metadata": {
    "ExecuteTime": {
     "end_time": "2025-04-06T16:41:29.526165Z",
     "start_time": "2025-04-06T16:41:29.521282Z"
    }
   },
   "cell_type": "code",
   "source": "dt_model = DecisionTreeClassifier(random_state=42)",
   "id": "ecddc890ca7c11bb",
   "outputs": [],
   "execution_count": 9
  },
  {
   "metadata": {
    "ExecuteTime": {
     "end_time": "2025-04-06T16:41:29.535412Z",
     "start_time": "2025-04-06T16:41:29.531178Z"
    }
   },
   "cell_type": "code",
   "source": [
    "dt_params = {\n",
    "    'max_depth': [5, 6, 7, 8, 9, 10, 11, 12],\n",
    "    'max_features': ['sqrt', 'log2', 0.2, 0.5, 0.8],\n",
    "    'min_samples_leaf': [4, 5, 6, 7, 8, 9, 10, 11, 12],\n",
    "    'min_samples_split': [4, 5, 6, 7, 8, 9, 10, 11, 12],\n",
    "    'criterion': ['gini', 'entropy']\n",
    "}"
   ],
   "id": "f6313b6c01c3d74d",
   "outputs": [],
   "execution_count": 10
  },
  {
   "metadata": {
    "ExecuteTime": {
     "end_time": "2025-04-06T16:43:17.222331Z",
     "start_time": "2025-04-06T16:41:29.551898Z"
    }
   },
   "cell_type": "code",
   "source": "dt_model = best_model_per_grid(dt_model, dt_params, X, y)",
   "id": "75eb632c0df4fb82",
   "outputs": [
    {
     "name": "stdout",
     "output_type": "stream",
     "text": [
      "{'criterion': 'entropy', 'max_depth': 5, 'max_features': 0.5, 'min_samples_leaf': 4, 'min_samples_split': 4} 0.9826086956521738\n"
     ]
    }
   ],
   "execution_count": 11
  },
  {
   "metadata": {
    "ExecuteTime": {
     "end_time": "2025-04-06T16:43:17.925299Z",
     "start_time": "2025-04-06T16:43:17.257217Z"
    }
   },
   "cell_type": "code",
   "source": [
    "rf_tuned_model, rf_features = get_tuned_model(rf_model, X, y)\n",
    "rf_features"
   ],
   "id": "af2618eaa2170c64",
   "outputs": [
    {
     "data": {
      "text/plain": [
       "Index(['Edad', 'Dobutamina', 'Norepinefrina', 'Acidosis metabólica', 'Estadia',\n",
       "       'FEVIPreop', 'TamañoVI', 'DuracionCEC', 'Uso vasoactivos pst',\n",
       "       'PaO2/FiO2 post', 'Lactato post', 'FEVI post', 'SvO2'],\n",
       "      dtype='object')"
      ]
     },
     "execution_count": 12,
     "metadata": {},
     "output_type": "execute_result"
    }
   ],
   "execution_count": 12
  },
  {
   "metadata": {
    "ExecuteTime": {
     "end_time": "2025-04-06T16:43:19.491450Z",
     "start_time": "2025-04-06T16:43:17.944486Z"
    }
   },
   "cell_type": "code",
   "source": [
    "rf_accuracy = cross_val_score(rf_tuned_model, X, y, cv=5, scoring='accuracy').mean()\n",
    "\n",
    "rf_accuracy"
   ],
   "id": "9873527c131426ca",
   "outputs": [
    {
     "data": {
      "text/plain": [
       "0.9742753623188406"
      ]
     },
     "execution_count": 13,
     "metadata": {},
     "output_type": "execute_result"
    }
   ],
   "execution_count": 13
  },
  {
   "metadata": {
    "ExecuteTime": {
     "end_time": "2025-04-06T16:44:19.675210Z",
     "start_time": "2025-04-06T16:44:19.658283Z"
    }
   },
   "cell_type": "code",
   "source": [
    "dt_tuned_model, dt_features = get_tuned_model(dt_model, X, y)\n",
    "\n",
    "dt_features"
   ],
   "id": "5fd6be7ee657f1b0",
   "outputs": [
    {
     "data": {
      "text/plain": [
       "Index(['Norepinefrina', 'Lactato post', 'FEVI post'], dtype='object')"
      ]
     },
     "execution_count": 18,
     "metadata": {},
     "output_type": "execute_result"
    }
   ],
   "execution_count": 18
  },
  {
   "metadata": {
    "ExecuteTime": {
     "end_time": "2025-04-06T16:43:19.556666Z",
     "start_time": "2025-04-06T16:43:19.531630Z"
    }
   },
   "cell_type": "code",
   "source": [
    "dt_accuracy = cross_val_score(dt_tuned_model, X, y, cv=5, scoring='accuracy').mean()\n",
    "\n",
    "dt_accuracy"
   ],
   "id": "b8e9cf09d7f685f4",
   "outputs": [
    {
     "data": {
      "text/plain": [
       "0.9826086956521738"
      ]
     },
     "execution_count": 15,
     "metadata": {},
     "output_type": "execute_result"
    }
   ],
   "execution_count": 15
  },
  {
   "metadata": {
    "ExecuteTime": {
     "end_time": "2025-04-06T16:43:19.588136Z",
     "start_time": "2025-04-06T16:43:19.571400Z"
    }
   },
   "cell_type": "code",
   "source": [
    "with open('models/rf_model.pkl', 'wb') as file:\n",
    "    pickle.dump(rf_tuned_model, file)"
   ],
   "id": "121e215fee7dbb1a",
   "outputs": [],
   "execution_count": 16
  },
  {
   "metadata": {
    "ExecuteTime": {
     "end_time": "2025-04-06T16:43:19.608790Z",
     "start_time": "2025-04-06T16:43:19.603307Z"
    }
   },
   "cell_type": "code",
   "source": [
    "with open('models/dt_model.pkl', 'wb') as file:\n",
    "    pickle.dump(dt_tuned_model, file)"
   ],
   "id": "1b7940e8a9f9f082",
   "outputs": [],
   "execution_count": 17
  }
 ],
 "metadata": {
  "kernelspec": {
   "display_name": "Predictor del Sindrome de Bajo Gasto Cardiaco",
   "language": "python",
   "name": "low-cardiac-output-syndrome-predictor"
  },
  "language_info": {
   "codemirror_mode": {
    "name": "ipython",
    "version": 2
   },
   "file_extension": ".py",
   "mimetype": "text/x-python",
   "name": "python",
   "nbconvert_exporter": "python",
   "pygments_lexer": "ipython2",
   "version": "2.7.6"
  }
 },
 "nbformat": 4,
 "nbformat_minor": 5
}
