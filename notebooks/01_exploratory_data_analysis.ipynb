{
 "cells": [
  {
   "cell_type": "markdown",
   "id": "5edd9470-8c0a-4964-8856-e9458c777344",
   "metadata": {},
   "source": [
    "# Análisis exploratorio de los datos\n",
    "\n",
    "Este proyecto tiene como objetivo identificar factores de riesgo pronóstico asociados al Síndrome de Bajo Gasto Cardíaco (SBGC) en pacientes sometidos a cirugía de revascularización miocárdica en el Hospital Universitario Cardiocentro Ernesto Che Guevara. Para ello, se emplearon técnicas de inteligencia artificial (IA), específicamente algoritmos de aprendizaje supervisado como Decision Tree y Random Forest.\n",
    "\n",
    "En este notebook se detallan, paso a paso, los procedimientos realizados durante el análisis exploratorio de los datos, con el fin de comprender mejor la estructura del conjunto de datos y detectar patrones iniciales."
   ]
  },
  {
   "metadata": {},
   "cell_type": "markdown",
   "source": [
    "## Puesta a punto\n",
    "\n",
    "En la celda siguiente se cargan las librerías necesarias para garantizar el correcto funcionamiento del notebook.\n"
   ],
   "id": "34fd72a0502b23c4"
  },
  {
   "cell_type": "code",
   "id": "35901a42-653b-4be2-9122-e33d40b73877",
   "metadata": {
    "ExecuteTime": {
     "end_time": "2025-07-09T22:06:06.030522Z",
     "start_time": "2025-07-09T22:06:01.484524Z"
    }
   },
   "source": [
    "import pandas as pd\n",
    "import os\n",
    "\n",
    "from src.utils import plot_distribution, plot_mi_scores, get_mi_scores"
   ],
   "outputs": [],
   "execution_count": 1
  },
  {
   "metadata": {},
   "cell_type": "markdown",
   "source": [
    "## Importación de datos\n",
    "\n",
    "Los datos utilizados en este análisis se encuentran en formato tabular dentro de un archivo Excel. A continuación, se procede a su carga para comenzar con la exploración y el procesamiento.\n"
   ],
   "id": "9b0deb75fbbbc669"
  },
  {
   "metadata": {
    "ExecuteTime": {
     "end_time": "2025-07-09T22:06:06.124707Z",
     "start_time": "2025-07-09T22:06:06.116776Z"
    }
   },
   "cell_type": "code",
   "source": "os.chdir('../')",
   "id": "24d55bc09dba5a0a",
   "outputs": [],
   "execution_count": 2
  },
  {
   "cell_type": "code",
   "id": "1d7cca03-d695-40f9-b418-2931c65ada78",
   "metadata": {
    "ExecuteTime": {
     "end_time": "2025-07-09T22:06:08.032907Z",
     "start_time": "2025-07-09T22:06:06.498117Z"
    }
   },
   "source": "X = pd.read_excel('data/raw/dataset.xlsx')",
   "outputs": [],
   "execution_count": 3
  },
  {
   "metadata": {},
   "cell_type": "markdown",
   "source": [
    "## Preprocesamiento\n",
    "\n",
    "Antes de aplicar cualquier técnica de modelado, es fundamental comprender la estructura del conjunto de datos: qué variables están disponibles, su tipo (numérico, categórico, etc.) y otras características relevantes. Esta etapa permite identificar necesidades de limpieza, transformación y codificación que garanticen un preprocesamiento adecuado para el análisis posterior.\n"
   ],
   "id": "51df577948cd7a9"
  },
  {
   "metadata": {
    "ExecuteTime": {
     "end_time": "2025-07-09T22:06:08.115764Z",
     "start_time": "2025-07-09T22:06:08.092223Z"
    }
   },
   "cell_type": "code",
   "source": "X.columns",
   "id": "ed0ec3dfabd41877",
   "outputs": [
    {
     "data": {
      "text/plain": [
       "Index(['Nombre y apellidos', 'Edad', 'Sexo', 'Café', 'Tabaco', 'Alcohol',\n",
       "       'APPHTA', 'APPDM', 'APPEPOC', 'APPIRC', 'APPEnfValvular', 'APPIMA',\n",
       "       'APPAngina', 'APPACV', 'No.LesionesCoronarias', 'LesionACD',\n",
       "       'Lesion TCI', 'LesionADA', 'LesionACircunfleja', 'BCPIAoPrep',\n",
       "       'BCPIAoTrans', 'BCPIAoPost', 'Dobutamina', 'Dopamina', 'Norepinefrina',\n",
       "       'Epinefrina', 'Nitroglicerina', 'Hipoglucemia', 'Hiperglucemia',\n",
       "       'Hiponatremia', 'Hipernatremia ', 'Hipopotasemia', 'Hiperpotasemia',\n",
       "       'Acidosis metabólica', 'Alcalosis metabólica', 'Acidosis respiratoria',\n",
       "       'Alcalosis respiratoria', 'DisfRenalPosop', 'DisfNeuroPosop',\n",
       "       'DisfHepatPosop', 'FI', 'FE', 'Estadia', 'Egreso', 'Evoluciòn',\n",
       "       'FEVIPreop', 'TamañoVI', 'AltContractVI', 'AMI', 'AMI+VSI', 'DAMI',\n",
       "       'DAM + VS', 'PuentesAR', 'PuentesAGep', 'PuentesVen',\n",
       "       'RevascIncompleta', 'CEC', 'DuracionCEC', 'Uso vasoactivos pst',\n",
       "       'AltMITransop', 'IMAPeriop', 'Vasoplejia post', 'Hipoxemia post ',\n",
       "       'PaO2/FiO2 post', 'Arritmias post', 'Anemia post', 'BalanceHidrPos',\n",
       "       'BalanceHidrNeg.', 'BalanceHidrNeutro', 'Lactato post', 'APP CI',\n",
       "       'HTA post', 'FEVI post', 'SvO2', 'SBGC', 'PA'],\n",
       "      dtype='object')"
      ]
     },
     "execution_count": 4,
     "metadata": {},
     "output_type": "execute_result"
    }
   ],
   "execution_count": 4
  },
  {
   "metadata": {
    "ExecuteTime": {
     "end_time": "2025-07-09T22:06:08.206026Z",
     "start_time": "2025-07-09T22:06:08.157901Z"
    }
   },
   "cell_type": "code",
   "source": "X.head()",
   "id": "4ed2eba57d12899f",
   "outputs": [
    {
     "data": {
      "text/plain": [
       "               Nombre y apellidos  Edad  Sexo  Café  Tabaco  Alcohol  APPHTA  \\\n",
       "0   Martina Vìrgen Olivera Guerra  66.0   2.0   0.0     0.0      0.0     0.0   \n",
       "1            Reginald Hajarysingh  63.0   1.0   0.0     0.0      0.0     1.0   \n",
       "2  Miguel Mariano Ornia Margolles  67.0   1.0   1.0     0.0      0.0     0.0   \n",
       "3  Miriam Rosa Hernández Trocones  67.0   2.0   0.0     1.0      0.0     1.0   \n",
       "4          Tomás Rodríguez Durán   73.0   1.0   0.0     1.0      0.0     1.0   \n",
       "\n",
       "   APPDM  APPEPOC  APPIRC  ...  BalanceHidrPos  BalanceHidrNeg.  \\\n",
       "0    1.0      0.0     0.0  ...             1.0              0.0   \n",
       "1    1.0      0.0     0.0  ...             1.0              0.0   \n",
       "2    1.0      0.0     0.0  ...             1.0              0.0   \n",
       "3    1.0      0.0     0.0  ...             1.0              0.0   \n",
       "4    1.0      1.0     0.0  ...             1.0              0.0   \n",
       "\n",
       "   BalanceHidrNeutro  Lactato post APP CI  HTA post  FEVI post  SvO2  SBGC  PA  \n",
       "0                0.0           5.0    0.0       0.0       45.0  56.0   1.0 NaN  \n",
       "1                0.0           1.3    0.0       0.0       56.0  78.0   0.0 NaN  \n",
       "2                0.0           6.3    0.0       0.0       41.0  55.0   1.0 NaN  \n",
       "3                0.0           9.0    0.0       0.0       37.0  41.0   1.0 NaN  \n",
       "4                0.0           2.0    1.0       0.0       55.0  78.0   0.0 NaN  \n",
       "\n",
       "[5 rows x 76 columns]"
      ],
      "text/html": [
       "<div>\n",
       "<style scoped>\n",
       "    .dataframe tbody tr th:only-of-type {\n",
       "        vertical-align: middle;\n",
       "    }\n",
       "\n",
       "    .dataframe tbody tr th {\n",
       "        vertical-align: top;\n",
       "    }\n",
       "\n",
       "    .dataframe thead th {\n",
       "        text-align: right;\n",
       "    }\n",
       "</style>\n",
       "<table border=\"1\" class=\"dataframe\">\n",
       "  <thead>\n",
       "    <tr style=\"text-align: right;\">\n",
       "      <th></th>\n",
       "      <th>Nombre y apellidos</th>\n",
       "      <th>Edad</th>\n",
       "      <th>Sexo</th>\n",
       "      <th>Café</th>\n",
       "      <th>Tabaco</th>\n",
       "      <th>Alcohol</th>\n",
       "      <th>APPHTA</th>\n",
       "      <th>APPDM</th>\n",
       "      <th>APPEPOC</th>\n",
       "      <th>APPIRC</th>\n",
       "      <th>...</th>\n",
       "      <th>BalanceHidrPos</th>\n",
       "      <th>BalanceHidrNeg.</th>\n",
       "      <th>BalanceHidrNeutro</th>\n",
       "      <th>Lactato post</th>\n",
       "      <th>APP CI</th>\n",
       "      <th>HTA post</th>\n",
       "      <th>FEVI post</th>\n",
       "      <th>SvO2</th>\n",
       "      <th>SBGC</th>\n",
       "      <th>PA</th>\n",
       "    </tr>\n",
       "  </thead>\n",
       "  <tbody>\n",
       "    <tr>\n",
       "      <th>0</th>\n",
       "      <td>Martina Vìrgen Olivera Guerra</td>\n",
       "      <td>66.0</td>\n",
       "      <td>2.0</td>\n",
       "      <td>0.0</td>\n",
       "      <td>0.0</td>\n",
       "      <td>0.0</td>\n",
       "      <td>0.0</td>\n",
       "      <td>1.0</td>\n",
       "      <td>0.0</td>\n",
       "      <td>0.0</td>\n",
       "      <td>...</td>\n",
       "      <td>1.0</td>\n",
       "      <td>0.0</td>\n",
       "      <td>0.0</td>\n",
       "      <td>5.0</td>\n",
       "      <td>0.0</td>\n",
       "      <td>0.0</td>\n",
       "      <td>45.0</td>\n",
       "      <td>56.0</td>\n",
       "      <td>1.0</td>\n",
       "      <td>NaN</td>\n",
       "    </tr>\n",
       "    <tr>\n",
       "      <th>1</th>\n",
       "      <td>Reginald Hajarysingh</td>\n",
       "      <td>63.0</td>\n",
       "      <td>1.0</td>\n",
       "      <td>0.0</td>\n",
       "      <td>0.0</td>\n",
       "      <td>0.0</td>\n",
       "      <td>1.0</td>\n",
       "      <td>1.0</td>\n",
       "      <td>0.0</td>\n",
       "      <td>0.0</td>\n",
       "      <td>...</td>\n",
       "      <td>1.0</td>\n",
       "      <td>0.0</td>\n",
       "      <td>0.0</td>\n",
       "      <td>1.3</td>\n",
       "      <td>0.0</td>\n",
       "      <td>0.0</td>\n",
       "      <td>56.0</td>\n",
       "      <td>78.0</td>\n",
       "      <td>0.0</td>\n",
       "      <td>NaN</td>\n",
       "    </tr>\n",
       "    <tr>\n",
       "      <th>2</th>\n",
       "      <td>Miguel Mariano Ornia Margolles</td>\n",
       "      <td>67.0</td>\n",
       "      <td>1.0</td>\n",
       "      <td>1.0</td>\n",
       "      <td>0.0</td>\n",
       "      <td>0.0</td>\n",
       "      <td>0.0</td>\n",
       "      <td>1.0</td>\n",
       "      <td>0.0</td>\n",
       "      <td>0.0</td>\n",
       "      <td>...</td>\n",
       "      <td>1.0</td>\n",
       "      <td>0.0</td>\n",
       "      <td>0.0</td>\n",
       "      <td>6.3</td>\n",
       "      <td>0.0</td>\n",
       "      <td>0.0</td>\n",
       "      <td>41.0</td>\n",
       "      <td>55.0</td>\n",
       "      <td>1.0</td>\n",
       "      <td>NaN</td>\n",
       "    </tr>\n",
       "    <tr>\n",
       "      <th>3</th>\n",
       "      <td>Miriam Rosa Hernández Trocones</td>\n",
       "      <td>67.0</td>\n",
       "      <td>2.0</td>\n",
       "      <td>0.0</td>\n",
       "      <td>1.0</td>\n",
       "      <td>0.0</td>\n",
       "      <td>1.0</td>\n",
       "      <td>1.0</td>\n",
       "      <td>0.0</td>\n",
       "      <td>0.0</td>\n",
       "      <td>...</td>\n",
       "      <td>1.0</td>\n",
       "      <td>0.0</td>\n",
       "      <td>0.0</td>\n",
       "      <td>9.0</td>\n",
       "      <td>0.0</td>\n",
       "      <td>0.0</td>\n",
       "      <td>37.0</td>\n",
       "      <td>41.0</td>\n",
       "      <td>1.0</td>\n",
       "      <td>NaN</td>\n",
       "    </tr>\n",
       "    <tr>\n",
       "      <th>4</th>\n",
       "      <td>Tomás Rodríguez Durán</td>\n",
       "      <td>73.0</td>\n",
       "      <td>1.0</td>\n",
       "      <td>0.0</td>\n",
       "      <td>1.0</td>\n",
       "      <td>0.0</td>\n",
       "      <td>1.0</td>\n",
       "      <td>1.0</td>\n",
       "      <td>1.0</td>\n",
       "      <td>0.0</td>\n",
       "      <td>...</td>\n",
       "      <td>1.0</td>\n",
       "      <td>0.0</td>\n",
       "      <td>0.0</td>\n",
       "      <td>2.0</td>\n",
       "      <td>1.0</td>\n",
       "      <td>0.0</td>\n",
       "      <td>55.0</td>\n",
       "      <td>78.0</td>\n",
       "      <td>0.0</td>\n",
       "      <td>NaN</td>\n",
       "    </tr>\n",
       "  </tbody>\n",
       "</table>\n",
       "<p>5 rows × 76 columns</p>\n",
       "</div>"
      ]
     },
     "execution_count": 5,
     "metadata": {},
     "output_type": "execute_result"
    }
   ],
   "execution_count": 5
  },
  {
   "metadata": {
    "ExecuteTime": {
     "end_time": "2025-07-09T22:06:08.406678Z",
     "start_time": "2025-07-09T22:06:08.375138Z"
    }
   },
   "cell_type": "code",
   "source": "X.info()",
   "id": "3315cca3e91e50ce",
   "outputs": [
    {
     "name": "stdout",
     "output_type": "stream",
     "text": [
      "<class 'pandas.core.frame.DataFrame'>\n",
      "RangeIndex: 122 entries, 0 to 121\n",
      "Data columns (total 76 columns):\n",
      " #   Column                  Non-Null Count  Dtype         \n",
      "---  ------                  --------------  -----         \n",
      " 0   Nombre y apellidos      120 non-null    object        \n",
      " 1   Edad                    120 non-null    float64       \n",
      " 2   Sexo                    120 non-null    float64       \n",
      " 3   Café                    120 non-null    float64       \n",
      " 4   Tabaco                  120 non-null    float64       \n",
      " 5   Alcohol                 120 non-null    float64       \n",
      " 6   APPHTA                  120 non-null    float64       \n",
      " 7   APPDM                   120 non-null    float64       \n",
      " 8   APPEPOC                 120 non-null    float64       \n",
      " 9   APPIRC                  120 non-null    float64       \n",
      " 10  APPEnfValvular          120 non-null    float64       \n",
      " 11  APPIMA                  120 non-null    float64       \n",
      " 12  APPAngina               120 non-null    float64       \n",
      " 13  APPACV                  120 non-null    float64       \n",
      " 14  No.LesionesCoronarias   120 non-null    object        \n",
      " 15  LesionACD               120 non-null    float64       \n",
      " 16  Lesion TCI              120 non-null    float64       \n",
      " 17  LesionADA               120 non-null    float64       \n",
      " 18  LesionACircunfleja      120 non-null    float64       \n",
      " 19  BCPIAoPrep              120 non-null    float64       \n",
      " 20  BCPIAoTrans             120 non-null    float64       \n",
      " 21  BCPIAoPost              120 non-null    float64       \n",
      " 22  Dobutamina              120 non-null    float64       \n",
      " 23  Dopamina                120 non-null    float64       \n",
      " 24  Norepinefrina           120 non-null    float64       \n",
      " 25  Epinefrina              119 non-null    float64       \n",
      " 26  Nitroglicerina          120 non-null    float64       \n",
      " 27  Hipoglucemia            119 non-null    float64       \n",
      " 28  Hiperglucemia           119 non-null    float64       \n",
      " 29  Hiponatremia            119 non-null    float64       \n",
      " 30  Hipernatremia           119 non-null    float64       \n",
      " 31  Hipopotasemia           119 non-null    float64       \n",
      " 32  Hiperpotasemia          119 non-null    float64       \n",
      " 33  Acidosis metabólica     119 non-null    float64       \n",
      " 34  Alcalosis metabólica    119 non-null    float64       \n",
      " 35  Acidosis respiratoria   119 non-null    float64       \n",
      " 36  Alcalosis respiratoria  119 non-null    float64       \n",
      " 37  DisfRenalPosop          119 non-null    float64       \n",
      " 38  DisfNeuroPosop          119 non-null    float64       \n",
      " 39  DisfHepatPosop          119 non-null    float64       \n",
      " 40  FI                      120 non-null    datetime64[ns]\n",
      " 41  FE                      120 non-null    object        \n",
      " 42  Estadia                 120 non-null    object        \n",
      " 43  Egreso                  120 non-null    float64       \n",
      " 44  Evoluciòn               120 non-null    float64       \n",
      " 45  FEVIPreop               120 non-null    float64       \n",
      " 46  TamañoVI                120 non-null    float64       \n",
      " 47  AltContractVI           120 non-null    float64       \n",
      " 48  AMI                     120 non-null    float64       \n",
      " 49  AMI+VSI                 120 non-null    float64       \n",
      " 50  DAMI                    119 non-null    float64       \n",
      " 51  DAM + VS                120 non-null    float64       \n",
      " 52  PuentesAR               120 non-null    float64       \n",
      " 53  PuentesAGep             120 non-null    float64       \n",
      " 54  PuentesVen              120 non-null    float64       \n",
      " 55  RevascIncompleta        120 non-null    float64       \n",
      " 56  CEC                     120 non-null    float64       \n",
      " 57  DuracionCEC             120 non-null    object        \n",
      " 58  Uso vasoactivos pst     120 non-null    float64       \n",
      " 59  AltMITransop            119 non-null    float64       \n",
      " 60  IMAPeriop               119 non-null    float64       \n",
      " 61  Vasoplejia post         119 non-null    float64       \n",
      " 62  Hipoxemia post          119 non-null    float64       \n",
      " 63  PaO2/FiO2 post          119 non-null    float64       \n",
      " 64  Arritmias post          119 non-null    float64       \n",
      " 65  Anemia post             119 non-null    float64       \n",
      " 66  BalanceHidrPos          119 non-null    float64       \n",
      " 67  BalanceHidrNeg.         119 non-null    float64       \n",
      " 68  BalanceHidrNeutro       119 non-null    float64       \n",
      " 69  Lactato post            117 non-null    float64       \n",
      " 70  APP CI                  119 non-null    float64       \n",
      " 71  HTA post                117 non-null    float64       \n",
      " 72  FEVI post               117 non-null    float64       \n",
      " 73  SvO2                    117 non-null    float64       \n",
      " 74  SBGC                    117 non-null    float64       \n",
      " 75  PA                      2 non-null      float64       \n",
      "dtypes: datetime64[ns](1), float64(70), object(5)\n",
      "memory usage: 72.6+ KB\n"
     ]
    }
   ],
   "execution_count": 6
  },
  {
   "metadata": {},
   "cell_type": "markdown",
   "source": "A partir de la exploración inicial, se observa la presencia de datos faltantes y variables categóricas. Asimismo, se identifican columnas que no aportan información relevante al modelo, por lo que deben ser eliminadas en el proceso de depuración.",
   "id": "61d2ba09ba3b7b5"
  },
  {
   "metadata": {
    "ExecuteTime": {
     "end_time": "2025-07-09T22:06:08.788487Z",
     "start_time": "2025-07-09T22:06:08.768139Z"
    }
   },
   "cell_type": "code",
   "source": [
    "# Eliminar filas con valores problemáticos\n",
    "X.drop([18, 20, 64, 65, 94, 120], inplace=True)\n",
    "\n",
    "# Eliminar columnas innecesarias y separar las variables predictoras (X) de la objetivo (y)\n",
    "X, y = (X.drop(['Nombre y apellidos', 'PA', 'FI', 'FE', 'SBGC'], axis=1), X['SBGC'])"
   ],
   "id": "a7d209b3edc9f3cf",
   "outputs": [],
   "execution_count": 7
  },
  {
   "metadata": {
    "ExecuteTime": {
     "end_time": "2025-07-09T22:06:08.820536Z",
     "start_time": "2025-07-09T22:06:08.808720Z"
    }
   },
   "cell_type": "code",
   "source": [
    "# Variables categóricas\n",
    "categorical_features = X.select_dtypes(include=object)\n",
    "\n",
    "categorical_features.columns"
   ],
   "id": "90d3f3e0b920c3b0",
   "outputs": [
    {
     "data": {
      "text/plain": [
       "Index(['No.LesionesCoronarias', 'Estadia', 'DuracionCEC'], dtype='object')"
      ]
     },
     "execution_count": 8,
     "metadata": {},
     "output_type": "execute_result"
    }
   ],
   "execution_count": 8
  },
  {
   "metadata": {
    "ExecuteTime": {
     "end_time": "2025-07-09T22:06:09.093022Z",
     "start_time": "2025-07-09T22:06:09.082602Z"
    }
   },
   "cell_type": "code",
   "source": [
    "# Valores que puede tomar la variable\n",
    "X['No.LesionesCoronarias'].unique()"
   ],
   "id": "a6574a079d1672bf",
   "outputs": [
    {
     "data": {
      "text/plain": [
       "array([3, 4, 5, 7, 2, 'Multiv', 'Multiv ', 1, 'multiv'], dtype=object)"
      ]
     },
     "execution_count": 9,
     "metadata": {},
     "output_type": "execute_result"
    }
   ],
   "execution_count": 9
  },
  {
   "metadata": {},
   "cell_type": "markdown",
   "source": [
    "Se identificaron valores equivalentes escritos de forma inconsistente, como 'Multiv', 'Multiv ' y 'multiv'. Todos hacen referencia a una misma condición clínica: la presencia de más de seis lesiones coronarias o enfermedad del tronco coronario.\n",
    "\n",
    "Para facilitar el procesamiento por parte de los modelos de aprendizaje automático, se decide reemplazar esta categoría por el valor numérico 7.\n"
   ],
   "id": "e66c3b91996c8e45"
  },
  {
   "metadata": {
    "ExecuteTime": {
     "end_time": "2025-07-09T22:06:09.301215Z",
     "start_time": "2025-07-09T22:06:09.293788Z"
    }
   },
   "cell_type": "code",
   "source": [
    "X[\"No.LesionesCoronarias\"] = [7 if i in ('Multiv', 'Multiv ', 'multiv') else i\n",
    "                              for i in X[\"No.LesionesCoronarias\"]]\n",
    "\n",
    "X[\"No.LesionesCoronarias\"] = X[\"No.LesionesCoronarias\"].astype(int)"
   ],
   "id": "84fde3c3ffa073d8",
   "outputs": [],
   "execution_count": 10
  },
  {
   "metadata": {
    "ExecuteTime": {
     "end_time": "2025-07-09T22:06:09.350749Z",
     "start_time": "2025-07-09T22:06:09.340754Z"
    }
   },
   "cell_type": "code",
   "source": [
    "# Valores que puede tomar la variable\n",
    "X['Estadia'].unique()"
   ],
   "id": "ceb3676e673faf32",
   "outputs": [
    {
     "data": {
      "text/plain": [
       "array([3, 6, 7, 2, 4, 1, 14, 12, '6h', 5, 10, 17, 13, 11, 20, 8, 28, 15,\n",
       "       27, 19, '3horas'], dtype=object)"
      ]
     },
     "execution_count": 11,
     "metadata": {},
     "output_type": "execute_result"
    }
   ],
   "execution_count": 11
  },
  {
   "metadata": {},
   "cell_type": "markdown",
   "source": "En este caso, se identificaron algunas entradas expresadas en horas mediante los textos 'h' o 'horas', mientras que el resto de los valores de la misma variable se encuentra en días. Para unificar la unidad de medida y facilitar su procesamiento, se reemplazarán estas entradas por su equivalente numérico en horas.",
   "id": "647f02111889dbd"
  },
  {
   "metadata": {
    "ExecuteTime": {
     "end_time": "2025-07-09T22:06:09.376979Z",
     "start_time": "2025-07-09T22:06:09.361270Z"
    }
   },
   "cell_type": "code",
   "source": [
    "# Identificar los valores numéricos\n",
    "numerical_rows = pd.to_numeric(X[\"Estadia\"], errors=\"coerce\").notna()\n",
    "\n",
    "# Eliminar el texto no deseado\n",
    "X[\"Estadia\"] = X[\"Estadia\"].astype(str)\n",
    "X[\"Estadia\"] = X[\"Estadia\"].str.replace(\"horas\", \"\")\n",
    "X[\"Estadia\"] = X[\"Estadia\"].str.replace(\"h\", \"\")\n",
    "\n",
    "# Convertir a tipo entero\n",
    "X[\"Estadia\"] = X[\"Estadia\"].astype(int)\n",
    "\n",
    "# Convertir de días a horas\n",
    "X.loc[numerical_rows, \"Estadia\"] = X.loc[numerical_rows, \"Estadia\"] * 24"
   ],
   "id": "746427a6f28798e0",
   "outputs": [],
   "execution_count": 12
  },
  {
   "metadata": {
    "ExecuteTime": {
     "end_time": "2025-07-09T22:06:09.463376Z",
     "start_time": "2025-07-09T22:06:09.454195Z"
    }
   },
   "cell_type": "code",
   "source": [
    "# Valores que puede tomar la variable\n",
    "X['DuracionCEC'].unique()"
   ],
   "id": "e97a61f7a1f4f00e",
   "outputs": [
    {
     "data": {
      "text/plain": [
       "array([\"130'\", \"120'\", \"142'\", \"101'\", \"134'\", \"145'\", \"152'\", \"109'\",\n",
       "       \"169'\", \"171'\", \"137'\", \"214'\", \"147'\", \"165'\", \"179'\", \"82'\",\n",
       "       \"103'\", \"124'\", \"88'\", \"172'\", \"200'\", \"140'\", \"79'\", 140, \"143'\",\n",
       "       \"321'\", 48, \"220'\", \"262'\", \"141'\", \"5'\", \"65'\", \"271'\", \"163'\",\n",
       "       \"138'\", \"80'\", \"155'\", 0, \"108'\", \"146'\", \"94'\", \"47'\", \"161'\",\n",
       "       \"166'\", \"139'\", \"133'\", \"135'\", \"132'\", \"129'\", \"42'\", \"188'\",\n",
       "       \"70'\", \"181'\", \"92'\", \"102'\", \"118'\", \"159'\", \"154'\", \"125'\",\n",
       "       \"225'\", \"91'\", \"90'\", \"107'\", \"115'\", \"160'\", \"117'\", \"84'\", \"96'\",\n",
       "       \"76'\", \"66'\", \"150'\", \"198'\", \"100'\", \"55'\", \"144'\", \"158'\",\n",
       "       \"700'\", 245, 205, \"190'\", \"85'\", \"37'\"], dtype=object)"
      ]
     },
     "execution_count": 13,
     "metadata": {},
     "output_type": "execute_result"
    }
   ],
   "execution_count": 13
  },
  {
   "metadata": {},
   "cell_type": "markdown",
   "source": "La mayoría de las entradas de esta variable contienen el caracter `'` al final, el cual es innecesario para el procesamiento. Por ello, se procede a eliminar este caracter para estandarizar los datos.\n",
   "id": "7ac576285a023e36"
  },
  {
   "metadata": {
    "ExecuteTime": {
     "end_time": "2025-07-09T22:06:09.492296Z",
     "start_time": "2025-07-09T22:06:09.484397Z"
    }
   },
   "cell_type": "code",
   "source": [
    "X[\"DuracionCEC\"] = X[\"DuracionCEC\"].astype(str)\n",
    "X[\"DuracionCEC\"] = X[\"DuracionCEC\"].str.replace(\"'\", \"\")\n",
    "X[\"DuracionCEC\"] = X[\"DuracionCEC\"].astype(int)"
   ],
   "id": "59f368574ea5dc46",
   "outputs": [],
   "execution_count": 14
  },
  {
   "metadata": {},
   "cell_type": "markdown",
   "source": "Las variables **FEVI post** y **SvO2** representan valores porcentuales, pero presentan inconsistencias en su formato: algunos valores están expresados como enteros (ej. 50) y otros como decimales (ej. 0.50). Para uniformizar la interpretación y facilitar el procesamiento, se decidió convertir todas las entradas a un formato decimal normalizado entre 0 y 1.",
   "id": "4362cfd6d5156931"
  },
  {
   "metadata": {
    "ExecuteTime": {
     "end_time": "2025-07-09T22:06:09.533805Z",
     "start_time": "2025-07-09T22:06:09.522602Z"
    }
   },
   "cell_type": "code",
   "source": "X['FEVI post'] = X['FEVI post'].apply(lambda x: x/100 if x > 1 else x)",
   "id": "7cb9784ba19e5618",
   "outputs": [],
   "execution_count": 15
  },
  {
   "metadata": {
    "ExecuteTime": {
     "end_time": "2025-07-09T22:06:09.577166Z",
     "start_time": "2025-07-09T22:06:09.569635Z"
    }
   },
   "cell_type": "code",
   "source": "X['SvO2'] = X['SvO2'].apply(lambda x: x/100 if x > 1 else x)",
   "id": "e53700ba09115daf",
   "outputs": [],
   "execution_count": 16
  },
  {
   "metadata": {},
   "cell_type": "markdown",
   "source": "Finalmente, los valores faltantes en cada variable se imputaron utilizando la moda (valor más frecuente), lo que permite conservar la distribución original de los datos.",
   "id": "94e85de7353bf6cb"
  },
  {
   "metadata": {
    "ExecuteTime": {
     "end_time": "2025-07-09T22:06:09.632533Z",
     "start_time": "2025-07-09T22:06:09.609043Z"
    }
   },
   "cell_type": "code",
   "source": "X = X.apply(lambda x: x.fillna(x.mode()[0]) if x.isnull().any() else x)",
   "id": "fb34c52b1c16b843",
   "outputs": [],
   "execution_count": 17
  },
  {
   "metadata": {},
   "cell_type": "markdown",
   "source": [
    "## Análisis de los datos\n",
    "\n",
    "Con el fin de obtener una visión general y clara del conjunto de datos, se realizó un análisis preliminar que incluyó:\n",
    "\n",
    "- Evaluación de la distribución de las clases, para detectar posibles desequilibrios.\n",
    "- Cálculo de la información mutua entre cada característica y la variable objetivo, como una primera aproximación para identificar las variables potencialmente más importantes.\n"
   ],
   "id": "e946cc6440b1f604"
  },
  {
   "metadata": {
    "ExecuteTime": {
     "end_time": "2025-07-09T22:06:10.757823Z",
     "start_time": "2025-07-09T22:06:09.664983Z"
    }
   },
   "cell_type": "code",
   "source": "plot_distribution(y, 1)",
   "id": "b53feec9d255b96c",
   "outputs": [
    {
     "data": {
      "text/plain": [
       "<Figure size 1000x600 with 1 Axes>"
      ],
      "image/png": "[encoded data removed]"
     },
     "metadata": {},
     "output_type": "display_data"
    }
   ],
   "execution_count": 18
  },
  {
   "metadata": {},
   "cell_type": "markdown",
   "source": "Como puede observarse en la distribución de clases, los datos se encuentran suficientemente balanceados, lo cual permitió entrenar los modelos sin necesidad de aplicar técnicas de remuestreo.",
   "id": "9186e7a0e2c5f23e"
  },
  {
   "metadata": {
    "ExecuteTime": {
     "end_time": "2025-07-09T22:06:14.033091Z",
     "start_time": "2025-07-09T22:06:12.710922Z"
    }
   },
   "cell_type": "code",
   "source": "plot_mi_scores(get_mi_scores(X, y), 1)",
   "id": "81122b687e59c1a2",
   "outputs": [
    {
     "data": {
      "text/plain": [
       "<Figure size 1000x600 with 1 Axes>"
      ],
      "image/png": "[encoded data removed]"
     },
     "metadata": {},
     "output_type": "display_data"
    }
   ],
   "execution_count": 21
  },
  {
   "metadata": {
    "ExecuteTime": {
     "end_time": "2025-07-09T22:06:14.053030Z",
     "start_time": "2025-07-09T22:06:14.043933Z"
    }
   },
   "cell_type": "code",
   "source": [
    "# Variables finales a considerar\n",
    "X.columns"
   ],
   "id": "e55d2874c7e9dee3",
   "outputs": [
    {
     "data": {
      "text/plain": [
       "Index(['Edad', 'Sexo', 'Café', 'Tabaco', 'Alcohol', 'APPHTA', 'APPDM',\n",
       "       'APPEPOC', 'APPIRC', 'APPEnfValvular', 'APPIMA', 'APPAngina', 'APPACV',\n",
       "       'No.LesionesCoronarias', 'LesionACD', 'Lesion TCI', 'LesionADA',\n",
       "       'LesionACircunfleja', 'BCPIAoPrep', 'BCPIAoTrans', 'BCPIAoPost',\n",
       "       'Dobutamina', 'Dopamina', 'Norepinefrina', 'Epinefrina',\n",
       "       'Nitroglicerina', 'Hipoglucemia', 'Hiperglucemia', 'Hiponatremia',\n",
       "       'Hipernatremia ', 'Hipopotasemia', 'Hiperpotasemia',\n",
       "       'Acidosis metabólica', 'Alcalosis metabólica', 'Acidosis respiratoria',\n",
       "       'Alcalosis respiratoria', 'DisfRenalPosop', 'DisfNeuroPosop',\n",
       "       'DisfHepatPosop', 'Estadia', 'Egreso', 'Evoluciòn', 'FEVIPreop',\n",
       "       'TamañoVI', 'AltContractVI', 'AMI', 'AMI+VSI', 'DAMI', 'DAM + VS',\n",
       "       'PuentesAR', 'PuentesAGep', 'PuentesVen', 'RevascIncompleta', 'CEC',\n",
       "       'DuracionCEC', 'Uso vasoactivos pst', 'AltMITransop', 'IMAPeriop',\n",
       "       'Vasoplejia post', 'Hipoxemia post ', 'PaO2/FiO2 post',\n",
       "       'Arritmias post', 'Anemia post', 'BalanceHidrPos', 'BalanceHidrNeg.',\n",
       "       'BalanceHidrNeutro', 'Lactato post', 'APP CI', 'HTA post', 'FEVI post',\n",
       "       'SvO2'],\n",
       "      dtype='object')"
      ]
     },
     "execution_count": 22,
     "metadata": {},
     "output_type": "execute_result"
    }
   ],
   "execution_count": 22
  },
  {
   "metadata": {
    "ExecuteTime": {
     "end_time": "2025-07-09T22:06:14.105746Z",
     "start_time": "2025-07-09T22:06:14.082949Z"
    }
   },
   "cell_type": "code",
   "source": [
    "# Almacenar el dataset limpio\n",
    "data = X.join(y)\n",
    "data.to_csv('data/processed/dataset.csv', index=False)"
   ],
   "id": "62532e2b038e9c4e",
   "outputs": [],
   "execution_count": 23
  }
 ],
 "metadata": {
  "kernelspec": {
   "display_name": "Predictor del Sindrome de Bajo Gasto Cardiaco",
   "language": "python",
   "name": "low-cardiac-output-syndrome-predictor"
  },
  "language_info": {
   "codemirror_mode": {
    "name": "ipython",
    "version": 3
   },
   "file_extension": ".py",
   "mimetype": "text/x-python",
   "name": "python",
   "nbconvert_exporter": "python",
   "pygments_lexer": "ipython3",
   "version": "3.12.7"
  }
 },
 "nbformat": 4,
 "nbformat_minor": 5
}
