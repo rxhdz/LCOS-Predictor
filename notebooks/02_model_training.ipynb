{
 "cells": [
  {
   "cell_type": "code",
   "id": "initial_id",
   "metadata": {
    "collapsed": true,
    "ExecuteTime": {
     "end_time": "2025-04-15T19:06:21.016311Z",
     "start_time": "2025-04-15T19:06:17.750541Z"
    }
   },
   "source": [
    "import pandas as pd\n",
    "from sklearn.model_selection import cross_val_score\n",
    "from sklearn.ensemble import RandomForestClassifier\n",
    "from sklearn.tree import DecisionTreeClassifier\n",
    "from src.utils import best_model_per_grid, get_tuned_model\n",
    "import pickle\n",
    "import os"
   ],
   "outputs": [],
   "execution_count": 1
  },
  {
   "metadata": {
    "ExecuteTime": {
     "end_time": "2025-04-15T19:06:35.158917Z",
     "start_time": "2025-04-15T19:06:35.154360Z"
    }
   },
   "cell_type": "code",
   "source": "os.chdir('../')",
   "id": "7d1f26b51a441fd0",
   "outputs": [],
   "execution_count": 2
  },
  {
   "metadata": {
    "ExecuteTime": {
     "end_time": "2025-04-15T19:06:39.410860Z",
     "start_time": "2025-04-15T19:06:39.400899Z"
    }
   },
   "cell_type": "code",
   "source": "X = pd.read_csv('data/processed/dataset.csv')",
   "id": "f1b2007849fab8e8",
   "outputs": [],
   "execution_count": 4
  },
  {
   "metadata": {
    "ExecuteTime": {
     "end_time": "2025-04-15T19:06:40.182957Z",
     "start_time": "2025-04-15T19:06:40.172254Z"
    }
   },
   "cell_type": "code",
   "source": "X.columns",
   "id": "807521ba4aa1751",
   "outputs": [
    {
     "data": {
      "text/plain": [
       "Index(['Edad', 'Sexo', 'Café', 'Tabaco', 'Alcohol', 'APPHTA', 'APPDM',\n",
       "       'APPEPOC', 'APPIRC', 'APPEnfValvular', 'APPIMA', 'APPAngina', 'APPACV',\n",
       "       'No.LesionesCoronarias', 'LesionACD', 'Lesion TCI', 'LesionADA',\n",
       "       'LesionACircunfleja', 'BCPIAoPrep', 'BCPIAoTrans', 'BCPIAoPost',\n",
       "       'Dobutamina', 'Dopamina', 'Norepinefrina', 'Epinefrina',\n",
       "       'Nitroglicerina', 'Hipoglucemia', 'Hiperglucemia', 'Hiponatremia',\n",
       "       'Hipernatremia ', 'Hipopotasemia', 'Hiperpotasemia',\n",
       "       'Acidosis metabólica', 'Alcalosis metabólica', 'Acidosis respiratoria',\n",
       "       'Alcalosis respiratoria', 'DisfRenalPosop', 'DisfNeuroPosop',\n",
       "       'DisfHepatPosop', 'Estadia', 'Egreso', 'Evoluciòn', 'FEVIPreop',\n",
       "       'TamañoVI', 'AltContractVI', 'AMI', 'AMI+VSI', 'DAMI', 'DAM + VS',\n",
       "       'PuentesAR', 'PuentesAGep', 'PuentesVen', 'RevascIncompleta', 'CEC',\n",
       "       'DuracionCEC', 'Uso vasoactivos pst', 'AltMITransop', 'IMAPeriop',\n",
       "       'Vasoplejia post', 'Hipoxemia post ', 'PaO2/FiO2 post',\n",
       "       'Arritmias post', 'Anemia post', 'BalanceHidrPos', 'BalanceHidrNeg.',\n",
       "       'BalanceHidrNeutro', 'Lactato post', 'APP CI', 'HTA post', 'FEVI post',\n",
       "       'SvO2', 'SBGC'],\n",
       "      dtype='object')"
      ]
     },
     "execution_count": 5,
     "metadata": {},
     "output_type": "execute_result"
    }
   ],
   "execution_count": 5
  },
  {
   "metadata": {
    "ExecuteTime": {
     "end_time": "2025-04-15T19:06:42.136629Z",
     "start_time": "2025-04-15T19:06:42.126599Z"
    }
   },
   "cell_type": "code",
   "source": "X, y = X.drop('SBGC', axis=1), X['SBGC']",
   "id": "1b10b984c1232bea",
   "outputs": [],
   "execution_count": 6
  },
  {
   "metadata": {
    "ExecuteTime": {
     "end_time": "2025-04-15T18:38:09.402094Z",
     "start_time": "2025-04-15T18:38:09.397813Z"
    }
   },
   "cell_type": "code",
   "source": "rf_model = RandomForestClassifier(random_state=42)",
   "id": "cdffeaaf7e252fd3",
   "outputs": [],
   "execution_count": 6
  },
  {
   "metadata": {
    "ExecuteTime": {
     "end_time": "2025-04-15T18:38:09.421168Z",
     "start_time": "2025-04-15T18:38:09.417363Z"
    }
   },
   "cell_type": "code",
   "source": [
    "rf_params = {\n",
    "    'n_estimators': [200, 300, 350],\n",
    "    'max_depth': [6, 10, 12],\n",
    "    'min_samples_leaf': [2, 4, 6],\n",
    "    'min_samples_split': [2, 4, 10],\n",
    "    'criterion': ['gini', 'entropy']\n",
    "}"
   ],
   "id": "2645bf9e0dd5f308",
   "outputs": [],
   "execution_count": 7
  },
  {
   "metadata": {
    "ExecuteTime": {
     "end_time": "2025-04-15T18:42:07.154228Z",
     "start_time": "2025-04-15T18:38:09.436061Z"
    }
   },
   "cell_type": "code",
   "source": "rf_model = best_model_per_grid(rf_model, rf_params, X, y)",
   "id": "1c1eb464fe1b6576",
   "outputs": [
    {
     "name": "stdout",
     "output_type": "stream",
     "text": [
      "{'criterion': 'gini', 'max_depth': 6, 'min_samples_leaf': 2, 'min_samples_split': 2, 'n_estimators': 200} 0.9739130434782609\n"
     ]
    }
   ],
   "execution_count": 8
  },
  {
   "metadata": {
    "ExecuteTime": {
     "end_time": "2025-04-15T18:42:07.234864Z",
     "start_time": "2025-04-15T18:42:07.230579Z"
    }
   },
   "cell_type": "code",
   "source": "dt_model = DecisionTreeClassifier(random_state=42)",
   "id": "ecddc890ca7c11bb",
   "outputs": [],
   "execution_count": 9
  },
  {
   "metadata": {
    "ExecuteTime": {
     "end_time": "2025-04-15T18:42:07.281346Z",
     "start_time": "2025-04-15T18:42:07.275279Z"
    }
   },
   "cell_type": "code",
   "source": [
    "dt_params = {\n",
    "    'max_depth': [5, 6, 7, 8, 9, 10, 11, 12],\n",
    "    'max_features': ['sqrt', 'log2', 0.2, 0.5, 0.8],\n",
    "    'min_samples_leaf': [4, 5, 6, 7, 8, 9, 10, 11, 12],\n",
    "    'min_samples_split': [4, 5, 6, 7, 8, 9, 10, 11, 12],\n",
    "    'criterion': ['gini', 'entropy']\n",
    "}"
   ],
   "id": "f6313b6c01c3d74d",
   "outputs": [],
   "execution_count": 10
  },
  {
   "metadata": {
    "ExecuteTime": {
     "end_time": "2025-04-15T18:44:07.068319Z",
     "start_time": "2025-04-15T18:42:07.300143Z"
    }
   },
   "cell_type": "code",
   "source": "dt_model = best_model_per_grid(dt_model, dt_params, X, y)",
   "id": "75eb632c0df4fb82",
   "outputs": [
    {
     "name": "stdout",
     "output_type": "stream",
     "text": [
      "{'criterion': 'gini', 'max_depth': 5, 'max_features': 'log2', 'min_samples_leaf': 4, 'min_samples_split': 4} 0.9742753623188406\n"
     ]
    }
   ],
   "execution_count": 11
  },
  {
   "metadata": {
    "ExecuteTime": {
     "end_time": "2025-04-15T18:44:07.562739Z",
     "start_time": "2025-04-15T18:44:07.112459Z"
    }
   },
   "cell_type": "code",
   "source": [
    "rf_tuned_model, rf_features = get_tuned_model(rf_model, X, y)\n",
    "rf_features"
   ],
   "id": "af2618eaa2170c64",
   "outputs": [
    {
     "data": {
      "text/plain": [
       "Index(['Dobutamina', 'Norepinefrina', 'Acidosis metabólica', 'FEVIPreop',\n",
       "       'TamañoVI', 'DuracionCEC', 'PaO2/FiO2 post', 'Lactato post',\n",
       "       'FEVI post', 'SvO2'],\n",
       "      dtype='object')"
      ]
     },
     "execution_count": 12,
     "metadata": {},
     "output_type": "execute_result"
    }
   ],
   "execution_count": 12
  },
  {
   "metadata": {
    "ExecuteTime": {
     "end_time": "2025-04-15T18:44:08.616768Z",
     "start_time": "2025-04-15T18:44:07.569808Z"
    }
   },
   "cell_type": "code",
   "source": [
    "rf_accuracy = cross_val_score(rf_tuned_model, X, y, cv=5, scoring='accuracy').mean()\n",
    "rf_accuracy"
   ],
   "id": "9873527c131426ca",
   "outputs": [
    {
     "data": {
      "text/plain": [
       "0.9739130434782609"
      ]
     },
     "execution_count": 13,
     "metadata": {},
     "output_type": "execute_result"
    }
   ],
   "execution_count": 13
  },
  {
   "metadata": {
    "ExecuteTime": {
     "end_time": "2025-04-15T18:44:08.645107Z",
     "start_time": "2025-04-15T18:44:08.634475Z"
    }
   },
   "cell_type": "code",
   "source": [
    "dt_tuned_model, dt_features = get_tuned_model(dt_model, X, y)\n",
    "dt_features"
   ],
   "id": "5fd6be7ee657f1b0",
   "outputs": [
    {
     "data": {
      "text/plain": [
       "Index(['CEC', 'FEVI post'], dtype='object')"
      ]
     },
     "execution_count": 14,
     "metadata": {},
     "output_type": "execute_result"
    }
   ],
   "execution_count": 14
  },
  {
   "metadata": {
    "ExecuteTime": {
     "end_time": "2025-04-15T18:44:08.691636Z",
     "start_time": "2025-04-15T18:44:08.662627Z"
    }
   },
   "cell_type": "code",
   "source": [
    "dt_accuracy = cross_val_score(dt_tuned_model, X, y, cv=5, scoring='accuracy').mean()\n",
    "dt_accuracy"
   ],
   "id": "b8e9cf09d7f685f4",
   "outputs": [
    {
     "data": {
      "text/plain": [
       "0.9742753623188406"
      ]
     },
     "execution_count": 15,
     "metadata": {},
     "output_type": "execute_result"
    }
   ],
   "execution_count": 15
  },
  {
   "metadata": {
    "ExecuteTime": {
     "end_time": "2025-04-15T18:44:08.729480Z",
     "start_time": "2025-04-15T18:44:08.713091Z"
    }
   },
   "cell_type": "code",
   "source": [
    "with open('models/rf_model.pkl', 'wb') as file:\n",
    "    pickle.dump(rf_tuned_model, file)"
   ],
   "id": "121e215fee7dbb1a",
   "outputs": [],
   "execution_count": 16
  },
  {
   "metadata": {
    "ExecuteTime": {
     "end_time": "2025-04-15T18:44:08.751308Z",
     "start_time": "2025-04-15T18:44:08.747144Z"
    }
   },
   "cell_type": "code",
   "source": [
    "with open('models/dt_model.pkl', 'wb') as file:\n",
    "    pickle.dump(dt_tuned_model, file)"
   ],
   "id": "1b7940e8a9f9f082",
   "outputs": [],
   "execution_count": 17
  }
 ],
 "metadata": {
  "kernelspec": {
   "display_name": "Predictor del Sindrome de Bajo Gasto Cardiaco",
   "language": "python",
   "name": "low-cardiac-output-syndrome-predictor"
  },
  "language_info": {
   "codemirror_mode": {
    "name": "ipython",
    "version": 2
   },
   "file_extension": ".py",
   "mimetype": "text/x-python",
   "name": "python",
   "nbconvert_exporter": "python",
   "pygments_lexer": "ipython2",
   "version": "2.7.6"
  }
 },
 "nbformat": 4,
 "nbformat_minor": 5
}
